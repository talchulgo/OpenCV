{
 "cells": [
  {
   "cell_type": "code",
   "execution_count": 10,
   "id": "01fc45ca",
   "metadata": {},
   "outputs": [
    {
     "ename": "NameError",
     "evalue": "name 'value' is not defined",
     "output_type": "error",
     "traceback": [
      "\u001b[1;31m---------------------------------------------------------------------------\u001b[0m",
      "\u001b[1;31mNameError\u001b[0m                                 Traceback (most recent call last)",
      "Input \u001b[1;32mIn [10]\u001b[0m, in \u001b[0;36m<cell line: 10>\u001b[1;34m()\u001b[0m\n\u001b[0;32m      7\u001b[0m src \u001b[38;5;241m=\u001b[39m cv2\u001b[38;5;241m.\u001b[39mimread(\u001b[38;5;124m\"\u001b[39m\u001b[38;5;124mimages/rose.jpg\u001b[39m\u001b[38;5;124m\"\u001b[39m, cv2\u001b[38;5;241m.\u001b[39mIMREAD_GRAYSCALE)\n\u001b[0;32m      8\u001b[0m \u001b[38;5;66;03m#src = cv2.imread(\"images/rose.jpg\")\u001b[39;00m\n\u001b[1;32m---> 10\u001b[0m src_dst \u001b[38;5;241m=\u001b[39m cv2\u001b[38;5;241m.\u001b[39mblur(src,(\u001b[43mvalue\u001b[49m,value))\n\u001b[0;32m     11\u001b[0m \u001b[38;5;66;03m# dst5 = cv2.blur(src,(5,5))\u001b[39;00m\n\u001b[0;32m     12\u001b[0m \u001b[38;5;66;03m# dst7 = cv2.blur(src,(7,7))\u001b[39;00m\n\u001b[0;32m     13\u001b[0m \n\u001b[0;32m     14\u001b[0m \u001b[38;5;66;03m#cv2.imshow(\"src\",src)\u001b[39;00m\n\u001b[0;32m     15\u001b[0m cv2\u001b[38;5;241m.\u001b[39mimshow(\u001b[38;5;124m\"\u001b[39m\u001b[38;5;124msrc_dst\u001b[39m\u001b[38;5;124m\"\u001b[39m,src_dst)\n",
      "\u001b[1;31mNameError\u001b[0m: name 'value' is not defined"
     ]
    }
   ],
   "source": [
    "import cv2\n",
    "\n",
    "src = cv2.imread(\"images/rose.jpg\", cv2.IMREAD_GRAYSCALE)\n",
    "dst3 = cv2.blur(src,(3,3))\n",
    "dst5 = cv2.blur(src,(5,5))\n",
    "dst7 = cv2.blur(src,(7,7))\n",
    "\n",
    "cv2.imshow(\"src\",src)\n",
    "cv2.imshow(\"dst3\",dst3)\n",
    "cv2.imshow(\"dst5\",dst5)\n",
    "cv2.imshow(\"dst7\",dst7)\n",
    "\n",
    "cv2.waitKey()\n",
    "cv2.destroyAllWindows()"
   ]
  }
 ],
 "metadata": {
  "kernelspec": {
   "display_name": "Python 3 (ipykernel)",
   "language": "python",
   "name": "python3"
  },
  "language_info": {
   "codemirror_mode": {
    "name": "ipython",
    "version": 3
   },
   "file_extension": ".py",
   "mimetype": "text/x-python",
   "name": "python",
   "nbconvert_exporter": "python",
   "pygments_lexer": "ipython3",
   "version": "3.8.5"
  }
 },
 "nbformat": 4,
 "nbformat_minor": 5
}
