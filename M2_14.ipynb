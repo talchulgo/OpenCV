{
 "cells": [
  {
   "cell_type": "code",
   "execution_count": 5,
   "id": "dd9042eb",
   "metadata": {},
   "outputs": [],
   "source": [
    "import cv2\n",
    "\n",
    "src = cv2.imread(\"images/cat.jpg\")\n",
    "dst1 = cv2.resize(src,(0,0), fx=2, fy=2)\n",
    "dst2 = cv2.resize(src,(800,600))\n",
    "dst3 = cv2.resize(src,(0,0),fx=0.5,fy=0.5,interpolation=cv2.INTER_AREA)\n",
    "\n",
    "cv2.imshow(\"src\",src)\n",
    "cv2.imshow(\"dst1\",dst1)\n",
    "cv2.imshow(\"dst2\",dst2)\n",
    "cv2.imshow(\"dst3\",dst3)\n",
    "\n",
    "cv2.waitKey()\n",
    "cv2.destroyAllWindows()"
   ]
  }
 ],
 "metadata": {
  "kernelspec": {
   "display_name": "Python 3 (ipykernel)",
   "language": "python",
   "name": "python3"
  },
  "language_info": {
   "codemirror_mode": {
    "name": "ipython",
    "version": 3
   },
   "file_extension": ".py",
   "mimetype": "text/x-python",
   "name": "python",
   "nbconvert_exporter": "python",
   "pygments_lexer": "ipython3",
   "version": "3.8.5"
  }
 },
 "nbformat": 4,
 "nbformat_minor": 5
}
