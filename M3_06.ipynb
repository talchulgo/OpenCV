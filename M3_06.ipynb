{
 "cells": [
  {
   "cell_type": "code",
   "execution_count": 3,
   "id": "d5e57a8a",
   "metadata": {},
   "outputs": [
    {
     "data": {
      "text/plain": [
       "True"
      ]
     },
     "execution_count": 3,
     "metadata": {},
     "output_type": "execute_result"
    }
   ],
   "source": [
    "import cv2\n",
    "\n",
    "cap = cv2.VideoCapture(\"images/PETS2000.avi\")\n",
    "ret, back = cap.read()\n",
    "ret"
   ]
  },
  {
   "cell_type": "code",
   "execution_count": 1,
   "id": "abcd5313",
   "metadata": {},
   "outputs": [],
   "source": [
    "import cv2\n",
    "\n",
    "cap = cv2.VideoCapture(\"images/PETS2000.avi\")\n",
    "_,back = cap.read()\n",
    "\n",
    "back_gray = cv2.cvtColor(back, cv2.COLOR_BGR2GRAY)\n",
    "back_blur = cv2.GaussianBlur(back_gray,None,1.0)\n",
    "\n",
    "cv2.imshow(\"back\",back_blur)\n",
    " \n",
    "while True:\n",
    "    ret,frame = cap.read()\n",
    "    if ret is False:\n",
    "        break\n",
    "    gray = cv2.cvtColor(frame,cv2.COLOR_BGR2GRAY)\n",
    "    blur = cv2.GaussianBlur(gray,None,1.0)\n",
    "    diff = cv2.absdiff(blur,back_blur)\n",
    "    \n",
    "    _,diff_threshold = cv2.threshold(diff, 30,255,cv2.THRESH_BINARY)\n",
    "    cnt,_,stats,_ = cv2.connectedComponentsWithStats(diff_threshold)\n",
    "    \n",
    "    for i in range(1,cnt):\n",
    "        (x,y,w,h,area) = stats[i]\n",
    "        if area < 200:\n",
    "            continue\n",
    "            \n",
    "        cv2.rectangle(frame,(x,y,w,h),(0,0,255))\n",
    "    cv2.imshow(\"org\",frame)\n",
    "    cv2.imshow(\"diff_threshold\",diff_threshold)\n",
    "    \n",
    "    if cv2.waitKey(20) ==27:\n",
    "        break\n",
    "        \n",
    "cap.release()\n",
    "cv2.destroyAllWindows()"
   ]
  }
 ],
 "metadata": {
  "kernelspec": {
   "display_name": "Python 3 (ipykernel)",
   "language": "python",
   "name": "python3"
  },
  "language_info": {
   "codemirror_mode": {
    "name": "ipython",
    "version": 3
   },
   "file_extension": ".py",
   "mimetype": "text/x-python",
   "name": "python",
   "nbconvert_exporter": "python",
   "pygments_lexer": "ipython3",
   "version": "3.8.5"
  }
 },
 "nbformat": 4,
 "nbformat_minor": 5
}
