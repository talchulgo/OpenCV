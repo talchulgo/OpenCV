{
 "cells": [
  {
   "cell_type": "code",
   "execution_count": 9,
   "id": "910828e5",
   "metadata": {},
   "outputs": [],
   "source": [
    "import cv2\n",
    "\n",
    "src = cv2.imread(\"images/lenna.bmp\",cv2.IMREAD_GRAYSCALE)\n",
    "\n",
    "dst1 = cv2.Sobel(src,-1,1,0,delta =128)\n",
    "dst2 = cv2.Sobel(src,-1,0,1,delta =128)\n",
    "\n",
    "dst1_1 = cv2.Sobel(src,-1,2,0,delta =128)\n",
    "dst2_2 = cv2.Sobel(src,-1,0,2,delta =128)\n",
    "\n",
    "cv2.imshow(\"src\",src)\n",
    "cv2.imshow(\"dst1\",dst1)\n",
    "cv2.imshow(\"dst2\",dst2)\n",
    "\n",
    "cv2.imshow(\"dst1_1\",dst1_1)\n",
    "cv2.imshow(\"dst2_2\",dst2_2)\n",
    "\n",
    "cv2.waitKey()\n",
    "cv2.destroyAllWindows()"
   ]
  },
  {
   "cell_type": "code",
   "execution_count": 13,
   "id": "f6ce92e5",
   "metadata": {},
   "outputs": [],
   "source": [
    "import cv2\n",
    "import numpy as np\n",
    "\n",
    "src = cv2.imread(\"images/lenna.bmp\")\n",
    "\n",
    "kernel = np.array(\n",
    "    [[0,-1,0],\n",
    "     [-1,5,-1],\n",
    "     [0,-1,0]]\n",
    ")\n",
    "\n",
    "dst = cv2.filter2D(src,-1,kernel)\n",
    "\n",
    "cv2.imshow(\"src\",src)\n",
    "cv2.imshow(\"dst\",dst)\n",
    "\n",
    "\n",
    "cv2.waitKey()\n",
    "cv2.destroyAllWindows()"
   ]
  },
  {
   "cell_type": "code",
   "execution_count": null,
   "id": "f3815190",
   "metadata": {},
   "outputs": [],
   "source": []
  },
  {
   "cell_type": "code",
   "execution_count": null,
   "id": "e7aea67c",
   "metadata": {},
   "outputs": [],
   "source": []
  }
 ],
 "metadata": {
  "kernelspec": {
   "display_name": "Python 3 (ipykernel)",
   "language": "python",
   "name": "python3"
  },
  "language_info": {
   "codemirror_mode": {
    "name": "ipython",
    "version": 3
   },
   "file_extension": ".py",
   "mimetype": "text/x-python",
   "name": "python",
   "nbconvert_exporter": "python",
   "pygments_lexer": "ipython3",
   "version": "3.8.5"
  }
 },
 "nbformat": 4,
 "nbformat_minor": 5
}
