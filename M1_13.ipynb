{
 "cells": [
  {
   "cell_type": "code",
   "execution_count": 1,
   "id": "c46081b0",
   "metadata": {},
   "outputs": [],
   "source": [
    "import numpy as np\n",
    "import cv2\n",
    "\n",
    "def onChange(pos):\n",
    "    value = pos *16\n",
    "    if value >= 255:\n",
    "        value = 255\n",
    "        \n",
    "    img[:] = value\n",
    "    cv2.imshow(\"image\",img)\n",
    "    \n",
    "img = np.zeros((480,640),np.uint8)\n",
    "cv2.imshow(\"image\",img)\n",
    "cv2.createTrackbar(\"level\",\"image\",0,16,onChange)\n",
    "\n",
    "cv2.waitKey()\n",
    "cv2.destroyAllWindows()"
   ]
  }
 ],
 "metadata": {
  "kernelspec": {
   "display_name": "Python 3 (ipykernel)",
   "language": "python",
   "name": "python3"
  },
  "language_info": {
   "codemirror_mode": {
    "name": "ipython",
    "version": 3
   },
   "file_extension": ".py",
   "mimetype": "text/x-python",
   "name": "python",
   "nbconvert_exporter": "python",
   "pygments_lexer": "ipython3",
   "version": "3.8.5"
  }
 },
 "nbformat": 4,
 "nbformat_minor": 5
}
