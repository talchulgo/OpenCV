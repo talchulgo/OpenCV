{
 "cells": [
  {
   "cell_type": "code",
   "execution_count": 3,
   "id": "938393a2",
   "metadata": {},
   "outputs": [
    {
     "name": "stdout",
     "output_type": "stream",
     "text": [
      "Frame widht: 960\n",
      "Frame height: 540\n",
      "Frame count: 556\n",
      "FPS: 23.976023976023978\n"
     ]
    }
   ],
   "source": [
    "import cv2\n",
    "import sys\n",
    "\n",
    "cap = cv2.VideoCapture(\"../images/butterfly.mp4\")\n",
    "\n",
    "if not cap.isOpened():\n",
    "    print(\"Failed\")\n",
    "    sys.exit()\n",
    "    \n",
    "print(\"Frame widht:\", int(cap.get(cv2.CAP_PROP_FRAME_WIDTH)))\n",
    "print(\"Frame height:\", int(cap.get(cv2.CAP_PROP_FRAME_HEIGHT)))\n",
    "print(\"Frame count:\", int(cap.get(cv2.CAP_PROP_FRAME_COUNT)))\n",
    "\n",
    "fps = cap.get(cv2.CAP_PROP_FPS)\n",
    "print(\"FPS:\", fps)\n",
    "delay = round(1000/fps)"
   ]
  },
  {
   "cell_type": "code",
   "execution_count": 4,
   "id": "c47bb720",
   "metadata": {},
   "outputs": [],
   "source": [
    "while True:\n",
    "    ret, frame = cap.read()\n",
    "    if not ret:\n",
    "        break\n",
    "        \n",
    "    inversed = ~frame\n",
    "    \n",
    "    cv2.imshow(\"frame\",frame)\n",
    "    cv2.imshow(\"inversed\",inversed)\n",
    "    \n",
    "    if cv2.waitKey(delay) == 27:\n",
    "        break\n",
    "        \n",
    "cap.release()\n",
    "cv2.destroyAllWindows()"
   ]
  }
 ],
 "metadata": {
  "kernelspec": {
   "display_name": "Python 3 (ipykernel)",
   "language": "python",
   "name": "python3"
  },
  "language_info": {
   "codemirror_mode": {
    "name": "ipython",
    "version": 3
   },
   "file_extension": ".py",
   "mimetype": "text/x-python",
   "name": "python",
   "nbconvert_exporter": "python",
   "pygments_lexer": "ipython3",
   "version": "3.8.5"
  }
 },
 "nbformat": 4,
 "nbformat_minor": 5
}
