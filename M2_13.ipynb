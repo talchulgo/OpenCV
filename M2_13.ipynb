{
 "cells": [
  {
   "cell_type": "code",
   "execution_count": 3,
   "id": "eae5d1dd",
   "metadata": {},
   "outputs": [],
   "source": [
    "import cv2\n",
    "import numpy as np\n",
    "\n",
    "src = cv2.imread(\"images/dog.jpg\")\n",
    "\n",
    "aft1 = np.array([[1,0,200],[0,1,100]],dtype=np.float32)\n",
    "aft2 = np.array([[1,0.5,0],[0,1,0]],dtype=np.float32)\n",
    "dst1 = cv2.warpAffine(src,aft1,(0,0))\n",
    "h, w = src.shape[:2]\n",
    "\n",
    "dst2 = cv2.warpAffine(src,aft2,(w + int(h*0.5),h))\n",
    "\n",
    "cv2.imshow(\"src\",src)\n",
    "cv2.imshow(\"dst1\",dst1)\n",
    "cv2.imshow(\"dst2\",dst2)\n",
    "\n",
    "cv2.waitKey()\n",
    "cv2.destroyAllWindows()"
   ]
  }
 ],
 "metadata": {
  "kernelspec": {
   "display_name": "Python 3 (ipykernel)",
   "language": "python",
   "name": "python3"
  },
  "language_info": {
   "codemirror_mode": {
    "name": "ipython",
    "version": 3
   },
   "file_extension": ".py",
   "mimetype": "text/x-python",
   "name": "python",
   "nbconvert_exporter": "python",
   "pygments_lexer": "ipython3",
   "version": "3.8.5"
  }
 },
 "nbformat": 4,
 "nbformat_minor": 5
}
