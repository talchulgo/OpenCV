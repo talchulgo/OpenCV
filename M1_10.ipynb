{
 "cells": [
  {
   "cell_type": "code",
   "execution_count": 3,
   "id": "d6908ab3",
   "metadata": {},
   "outputs": [],
   "source": [
    "import sys\n",
    "import cv2\n",
    "\n",
    "# 기본 카메라 객체 생성 : 0 은 기본카메라\n",
    "cap = cv2.VideoCapture(0)\n",
    "\n",
    "if not cap.isOpened():\n",
    "    print(\"Carmera Oopen fialed\")\n",
    "    sys.exit()\n",
    "    \n",
    "w = round(cap.get(cv2.CAP_PROP_FRAME_WIDTH))\n",
    "h = round(cap.get(cv2.CAP_PROP_FRAME_HEIGHT))\n",
    "fps = cap.get(cv2.CAP_PROP_FPS)\n",
    "\n",
    "fourcc = cv2.VideoWriter_fourcc(*\"DIVX\")\n",
    "delay = round(1000/fps)\n",
    "\n",
    "out = cv2.VideoWriter(\"M1_10_videowrite.avi\",fourcc,fps,(w,h))\n",
    "out2 = cv2.VideoWriter(\"M1_10_videowrite_edge.avi\",fourcc,fps,(w,h))\n",
    "\n",
    "if not out.isOpened():\n",
    "    print(\"File Open Failed\")\n",
    "    cap.release()\n",
    "    sys.exit()\n"
   ]
  },
  {
   "cell_type": "code",
   "execution_count": 4,
   "id": "801960a9",
   "metadata": {},
   "outputs": [],
   "source": [
    "while True:\n",
    "    ret,frame = cap.read()\n",
    "    \n",
    "    if not ret:\n",
    "        break\n",
    "    \n",
    "    inversed = ~frame\n",
    "    edge = cv2.Canny(frame, 50, 150)\n",
    "    \n",
    "\n",
    "    out.write(inversed)\n",
    "    out2.write(edge)\n",
    "    cv2.imshow(\"frame\", frame)\n",
    "    cv2.imshow(\"inversed\", inversed)\n",
    "    cv2.imshow(\"edge\", edge)\n",
    "    \n",
    "    if cv2.waitKeyEx(delay) == 27:\n",
    "        break\n",
    "        \n",
    "cap.release()\n",
    "out.release()\n",
    "cv2.destroyAllWindows()"
   ]
  }
 ],
 "metadata": {
  "kernelspec": {
   "display_name": "Python 3 (ipykernel)",
   "language": "python",
   "name": "python3"
  },
  "language_info": {
   "codemirror_mode": {
    "name": "ipython",
    "version": 3
   },
   "file_extension": ".py",
   "mimetype": "text/x-python",
   "name": "python",
   "nbconvert_exporter": "python",
   "pygments_lexer": "ipython3",
   "version": "3.8.5"
  }
 },
 "nbformat": 4,
 "nbformat_minor": 5
}
