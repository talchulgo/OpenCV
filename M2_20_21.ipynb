{
 "cells": [
  {
   "cell_type": "code",
   "execution_count": 10,
   "id": "b6663317",
   "metadata": {},
   "outputs": [],
   "source": [
    "import cv2\n",
    "\n",
    "# src = cv2.imread(\"images/cells.jpg\",cv2.IMREAD_GRAYSCALE)\n",
    "# src1 = cv2.imread(\"images/leaf.jpg\",cv2.IMREAD_GRAYSCALE)\n",
    "\n",
    "# _,t1 = cv2.threshold(src,160,255,cv2.THRESH_BINARY)\n",
    "# _,t2 = cv2.threshold(src,210,255,cv2.THRESH_BINARY)\n",
    "# aa,t3 = cv2.threshold(src1,0,255,cv2.THRESH_BINARY | cv2.THRESH_OTSU)\n",
    "\n",
    "# cv2.imshow(\"src\",src)\n",
    "# cv2.imshow(\"src1\",src1)\n",
    "\n",
    "# cv2.imshow(\"t1\",t1)\n",
    "# cv2.imshow(\"t2\",t2)\n",
    "# cv2.imshow(\"t3\",t3)\n",
    "\n",
    "# cv2.waitKey()\n",
    "# cv2.destroyAllWindows()\n",
    "\n",
    "#------------- M2_18 응용 실습 ----------\n",
    "cap = cv2.VideoCapture(0)\n",
    "\n",
    "if not cap.isOpened():\n",
    "    print(\"Failed\")\n",
    "    sys.exit()\n",
    "fps = cap.get(cv2.CAP_PROP_FPS)\n",
    "delay = round(1000/fps)\n",
    "\n",
    "while True:\n",
    "    ret, frame = cap.read()\n",
    "    if not ret:\n",
    "        break\n",
    "        \n",
    "#    edges = cv2.Canny(frame, 50, 150)\n",
    "\n",
    "#     lines = cv2.HoughLinesP(edges,1, np.pi/180, 160, minLineLength=10,maxLineGap=5)\n",
    "\n",
    "    _,dst = cv2.threshold(frame,160,255,cv2.THRESH_BINARY)\n",
    "\n",
    "    cv2.imshow(\"dst\",dst)\n",
    "    \n",
    "    if cv2.waitKey(delay) == 27:\n",
    "        break\n",
    "\n",
    "cap.release()\n",
    "cv2.destroyAllWindows()"
   ]
  },
  {
   "cell_type": "code",
   "execution_count": null,
   "id": "58f83671",
   "metadata": {},
   "outputs": [],
   "source": []
  }
 ],
 "metadata": {
  "kernelspec": {
   "display_name": "Python 3 (ipykernel)",
   "language": "python",
   "name": "python3"
  },
  "language_info": {
   "codemirror_mode": {
    "name": "ipython",
    "version": 3
   },
   "file_extension": ".py",
   "mimetype": "text/x-python",
   "name": "python",
   "nbconvert_exporter": "python",
   "pygments_lexer": "ipython3",
   "version": "3.8.5"
  }
 },
 "nbformat": 4,
 "nbformat_minor": 5
}
