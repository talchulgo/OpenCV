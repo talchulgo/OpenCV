{
 "cells": [
  {
   "cell_type": "code",
   "execution_count": 9,
   "id": "f4ca98ab",
   "metadata": {},
   "outputs": [],
   "source": [
    "import cv2\n",
    "import numpy as np\n",
    "\n",
    "def onMouse(event,x,y,flags,parma):\n",
    "    #print(\"event {0},x {1},y {2}\",format(event,x,y))\n",
    "    \n",
    "    if event == cv2.EVENT_LBUTTONDOWN:\n",
    "        cv2.circle(img,(x,y),30,(255,0,0),-1)\n",
    "        cv2.imshow(\"mouse_event\",img)\n",
    "\n",
    "    if event == cv2.EVENT_RBUTTONDOWN:\n",
    "        cv2.rectangle(img,(x,y,50,50),(0,255,0),2)\n",
    "        #cv2.circle(img,(x,y),20,(0,0,255),2)\n",
    "        cv2.imshow(\"mouse_event\",img)\n",
    "        \n",
    "img = np.ones((480,640,3),dtype=np.uint8)*255\n",
    "\n",
    "cv2.imshow(\"mouse_event\",img)\n",
    "cv2.setMouseCallback(\"mouse_event\",onMouse)\n",
    "\n",
    "cv2.waitKey()\n",
    "cv2.destroyAllWindows()\n"
   ]
  }
 ],
 "metadata": {
  "kernelspec": {
   "display_name": "Python 3 (ipykernel)",
   "language": "python",
   "name": "python3"
  },
  "language_info": {
   "codemirror_mode": {
    "name": "ipython",
    "version": 3
   },
   "file_extension": ".py",
   "mimetype": "text/x-python",
   "name": "python",
   "nbconvert_exporter": "python",
   "pygments_lexer": "ipython3",
   "version": "3.8.5"
  }
 },
 "nbformat": 4,
 "nbformat_minor": 5
}
