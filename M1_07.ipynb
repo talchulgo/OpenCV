{
 "cells": [
  {
   "cell_type": "code",
   "execution_count": 1,
   "id": "bd1529fd",
   "metadata": {},
   "outputs": [],
   "source": [
    "import numpy as np, cv2\n",
    "\n",
    "img = np.full((600,600,3), 255, np.uint8)\n",
    "\n",
    "cv2.line(img,(300,300),(200,300),(0,255,255),5)\n",
    "cv2.rectangle(img,(50,200,150,100),(0,255,0),2)\n",
    "cv2.circle(img,(300,100),30,(255,255,0),-1,cv2.LINE_AA)\n",
    "cv2.circle(img,(300,100),60,(255,0,0),3,cv2.LINE_AA)\n",
    "\n",
    "text = \"TEST paint rectangle, circle, line\"\n",
    "cv2.putText(img,text,(50,350),cv2.FONT_HERSHEY_DUPLEX,0.8,(0,0,255),1, cv2.LINE_AA)\n",
    "\n",
    "cv2.imshow(\"img\",img)\n",
    "cv2.waitKey()\n",
    "cv2.destroyAllWindows()"
   ]
  }
 ],
 "metadata": {
  "kernelspec": {
   "display_name": "Python 3 (ipykernel)",
   "language": "python",
   "name": "python3"
  },
  "language_info": {
   "codemirror_mode": {
    "name": "ipython",
    "version": 3
   },
   "file_extension": ".py",
   "mimetype": "text/x-python",
   "name": "python",
   "nbconvert_exporter": "python",
   "pygments_lexer": "ipython3",
   "version": "3.8.5"
  }
 },
 "nbformat": 4,
 "nbformat_minor": 5
}
