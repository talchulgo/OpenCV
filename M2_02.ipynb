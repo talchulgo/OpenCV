{
 "cells": [
  {
   "cell_type": "code",
   "execution_count": 2,
   "id": "89b6b3b1",
   "metadata": {},
   "outputs": [],
   "source": [
    "import cv2\n",
    "\n",
    "img = cv2.imread(\"../images/candy2.png\")\n",
    "img_hsv = cv2.cvtColor(img,cv2.COLOR_BGR2HSV)\n",
    "\n",
    "def on_bar(pos):\n",
    "    pass\n",
    "\n",
    "cv2.imshow(\"img\",img)\n",
    "cv2.namedWindow(\"dst\")\n",
    "cv2.createTrackbar(\"H_min\",\"dst\",50,179,on_bar)\n",
    "cv2.createTrackbar(\"H_max\",\"dst\",80,179,on_bar)\n",
    "\n",
    "while True:\n",
    "    hmin = cv2.getTrackbarPos(\"H_min\",\"dst\")\n",
    "    hmax = cv2.getTrackbarPos(\"H_max\",\"dst\")\n",
    "    dst = cv2.inRange(img_hsv,(hmin,150,0),(hmax,255,255))\n",
    "    cv2.imshow(\"dst\",dst)\n",
    "    if cv2.waitKey(1) ==27:\n",
    "        break\n",
    "cv2.destroyAllWindows()"
   ]
  }
 ],
 "metadata": {
  "kernelspec": {
   "display_name": "Python 3 (ipykernel)",
   "language": "python",
   "name": "python3"
  },
  "language_info": {
   "codemirror_mode": {
    "name": "ipython",
    "version": 3
   },
   "file_extension": ".py",
   "mimetype": "text/x-python",
   "name": "python",
   "nbconvert_exporter": "python",
   "pygments_lexer": "ipython3",
   "version": "3.8.5"
  }
 },
 "nbformat": 4,
 "nbformat_minor": 5
}
