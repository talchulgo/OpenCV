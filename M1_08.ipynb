{
 "cells": [
  {
   "cell_type": "code",
   "execution_count": 1,
   "id": "98920118",
   "metadata": {},
   "outputs": [
    {
     "data": {
      "text/plain": [
       "True"
      ]
     },
     "execution_count": 1,
     "metadata": {},
     "output_type": "execute_result"
    }
   ],
   "source": [
    "import sys\n",
    "import cv2\n",
    "\n",
    "cap = cv2.VideoCapture(0)\n",
    "\n",
    "if not cap.isOpened():\n",
    "    print(\"Camera Open failed\")\n",
    "    sys.exit()\n",
    "    \n",
    "# print(\"Frame width : \",int(cap.get(cv2.CAP_PROP_FRAME_WIDTH)))\n",
    "# print(\"Frame Height : \",int(cap.get(cv2.CAP_PROP_FRAME_HEIGHT)))\n",
    "cap.set(cv2.CAP_PROP_FRAME_WIDTH,1024)\n",
    "cap.set(cv2.CAP_PROP_FRAME_HEIGHT,768)"
   ]
  },
  {
   "cell_type": "code",
   "execution_count": 2,
   "id": "03898cd1",
   "metadata": {},
   "outputs": [],
   "source": [
    "while True:\n",
    "    ret, frame = cap.read()\n",
    "    if not ret:\n",
    "        break\n",
    "        \n",
    "    inversed = ~frame\n",
    "    edge = cv2.Canny(frame, 50, 150)\n",
    "    \n",
    "    cv2.imshow(\"frame\",frame)\n",
    "    cv2.imshow(\"inversed\",inversed)\n",
    "    cv2.imshow(\"edge\", edge)\n",
    "    \n",
    "    \n",
    "    if cv2.waitKey(10) == 27:\n",
    "        break\n",
    "        \n",
    "cap.release()\n",
    "cv2.destroyAllWindows()"
   ]
  }
 ],
 "metadata": {
  "kernelspec": {
   "display_name": "Python 3 (ipykernel)",
   "language": "python",
   "name": "python3"
  },
  "language_info": {
   "codemirror_mode": {
    "name": "ipython",
    "version": 3
   },
   "file_extension": ".py",
   "mimetype": "text/x-python",
   "name": "python",
   "nbconvert_exporter": "python",
   "pygments_lexer": "ipython3",
   "version": "3.8.5"
  }
 },
 "nbformat": 4,
 "nbformat_minor": 5
}
