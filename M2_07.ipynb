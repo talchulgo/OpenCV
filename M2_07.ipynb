{
 "cells": [
  {
   "cell_type": "code",
   "execution_count": null,
   "id": "62e707e2",
   "metadata": {},
   "outputs": [],
   "source": [
    "import cv2\n",
    "\n",
    "img = cv2.imread(\"images/field.bmp\")\n",
    "img_ycrcb = cv2.cvtColor(img, cv2.COLOR_BGR2YCrCb)\n",
    "\n",
    "y,cr,cb = cv2.split(img_ycrcb)\n",
    "y_dst = cv2.equalizeHist(y)\n",
    "dst_ycrb = cv2.merge([y_dst,cr,cb])\n",
    "dst = cv2.cvtColor(dst_ycrb,cv2.COLOR_YCrCb2BGR)\n",
    "\n",
    "cv2.imshow(\"img\",img)\n"
   ]
  }
 ],
 "metadata": {
  "kernelspec": {
   "display_name": "Python 3 (ipykernel)",
   "language": "python",
   "name": "python3"
  },
  "language_info": {
   "codemirror_mode": {
    "name": "ipython",
    "version": 3
   },
   "file_extension": ".py",
   "mimetype": "text/x-python",
   "name": "python",
   "nbconvert_exporter": "python",
   "pygments_lexer": "ipython3",
   "version": "3.8.5"
  }
 },
 "nbformat": 4,
 "nbformat_minor": 5
}
